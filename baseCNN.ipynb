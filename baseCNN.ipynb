{
 "cells": [
  {
   "cell_type": "code",
   "execution_count": 1,
   "metadata": {},
   "outputs": [],
   "source": [
    "import numpy as np\n",
    "import pandas as pd\n",
    "import matplotlib.pyplot as plt\n",
    "import matplotlib.image as mpimg\n",
    "import keras \n",
    "import tensorflow as tf\n",
    "from keras.models import Sequential, Model\n",
    "from keras.layers import Dense, Dropout, Flatten , BatchNormalization\n",
    "from keras.layers import Conv2D, MaxPooling2D , AveragePooling2D,GlobalAveragePooling2D\n",
    "from keras import models, layers\n",
    "from keras.layers import LSTM,TimeDistributed\n",
    "from keras.callbacks import ReduceLROnPlateau,EarlyStopping\n",
    "from keras.preprocessing.image import ImageDataGenerator\n",
    "from sklearn.model_selection import train_test_split\n",
    "from keras.preprocessing.image import ImageDataGenerator"
   ]
  },
  {
   "cell_type": "code",
   "execution_count": 2,
   "metadata": {},
   "outputs": [],
   "source": [
    "train_path = \"/Users/phongminh/IE103Lab/Data_Malware/Data_Train\"\n",
    "val_path = \"/Users/phongminh/IE103Lab/Data_Malware/Data_Val\"\n",
    "test_path = \"/Users/phongminh/IE103Lab/Data_Malware/Data_Test\""
   ]
  },
  {
   "cell_type": "code",
   "execution_count": 3,
   "metadata": {},
   "outputs": [
    {
     "name": "stdout",
     "output_type": "stream",
     "text": [
      "Found 2582 files belonging to 2 classes.\n"
     ]
    }
   ],
   "source": [
    "train_ds = tf.keras.preprocessing.image_dataset_from_directory(\n",
    "    train_path,\n",
    "    seed=123,\n",
    "    shuffle=True,\n",
    "    image_size=(224,224),\n",
    "    batch_size=32\n",
    ")"
   ]
  },
  {
   "cell_type": "code",
   "execution_count": 4,
   "metadata": {},
   "outputs": [
    {
     "name": "stdout",
     "output_type": "stream",
     "text": [
      "Found 310 files belonging to 2 classes.\n"
     ]
    }
   ],
   "source": [
    "val_ds = tf.keras.preprocessing.image_dataset_from_directory(\n",
    "    val_path,\n",
    "    seed=123,\n",
    "    shuffle=True,\n",
    "    image_size=(224,224),\n",
    "    batch_size=32\n",
    ")"
   ]
  },
  {
   "cell_type": "code",
   "execution_count": 5,
   "metadata": {},
   "outputs": [
    {
     "name": "stdout",
     "output_type": "stream",
     "text": [
      "Found 310 files belonging to 2 classes.\n"
     ]
    }
   ],
   "source": [
    "test_ds = tf.keras.preprocessing.image_dataset_from_directory(\n",
    "    test_path,\n",
    "    seed=123,\n",
    "    shuffle=True,\n",
    "    image_size=(224,224),\n",
    "    batch_size=32\n",
    ")"
   ]
  },
  {
   "cell_type": "code",
   "execution_count": 8,
   "metadata": {},
   "outputs": [],
   "source": [
    "def malware_model(width, height):\n",
    "    Malware_model = Sequential()\n",
    "\n",
    "    Malware_model.add(Conv2D(filters=32, kernel_size=(3, 3), input_shape=(width, height, 3), activation='relu', kernel_initializer='he_uniform', padding='same'))\n",
    "    Malware_model.add(BatchNormalization())\n",
    "    Malware_model.add(Conv2D(filters=32, kernel_size=(3, 3), activation='relu', kernel_initializer='he_uniform', padding='same'))\n",
    "    Malware_model.add(BatchNormalization())\n",
    "    Malware_model.add(MaxPooling2D(pool_size=(2, 2)))\n",
    "    Malware_model.add(Dropout(0.25))\n",
    "\n",
    "    Malware_model.add(Conv2D(filters=64, kernel_size=(3, 3), activation='relu', kernel_initializer='he_uniform', padding='same'))\n",
    "    Malware_model.add(BatchNormalization())\n",
    "    Malware_model.add(Conv2D(filters=64, kernel_size=(3, 3), activation='relu', kernel_initializer='he_uniform', padding='same'))\n",
    "    Malware_model.add(BatchNormalization())\n",
    "    Malware_model.add(MaxPooling2D(pool_size=(2, 2)))\n",
    "    Malware_model.add(Dropout(0.25))\n",
    "\n",
    "    Malware_model.add(Conv2D(filters=128, kernel_size=(3, 3), activation='relu', kernel_initializer='he_uniform', padding='same'))\n",
    "    Malware_model.add(BatchNormalization())\n",
    "    Malware_model.add(Conv2D(filters=128, kernel_size=(3, 3), activation='relu', kernel_initializer='he_uniform', padding='same'))\n",
    "    Malware_model.add(BatchNormalization())\n",
    "    Malware_model.add(MaxPooling2D(pool_size=(2, 2)))\n",
    "    Malware_model.add(Dropout(0.25))\n",
    "\n",
    "    Malware_model.add(Flatten())\n",
    "    Malware_model.add(Dense(128, activation='relu', kernel_initializer='he_uniform'))\n",
    "    Malware_model.add(Dropout(0.25))\n",
    "    Malware_model.add(Dense(1, activation='sigmoid'))\n",
    "\n",
    "    Malware_model.compile(loss=tf.keras.losses.BinaryCrossentropy(from_logits=False), optimizer='adam', metrics=['accuracy'])\n",
    "\n",
    "    return Malware_model\n"
   ]
  },
  {
   "cell_type": "code",
   "execution_count": 9,
   "metadata": {},
   "outputs": [],
   "source": [
    "model=malware_model(224 , 224)"
   ]
  },
  {
   "cell_type": "code",
   "execution_count": 10,
   "metadata": {},
   "outputs": [],
   "source": [
    "datagen = ImageDataGenerator(rotation_range=10,  \n",
    "                         zoom_range = 0.1, \n",
    "                         width_shift_range=0.1,  \n",
    "                         height_shift_range=0.1, \n",
    "                         rescale=1.0/255.0)"
   ]
  },
  {
   "cell_type": "code",
   "execution_count": 11,
   "metadata": {},
   "outputs": [],
   "source": [
    "model.compile(loss='binary_crossentropy', optimizer='adam', metrics=['accuracy'])"
   ]
  },
  {
   "cell_type": "code",
   "execution_count": 14,
   "metadata": {},
   "outputs": [
    {
     "name": "stdout",
     "output_type": "stream",
     "text": [
      "Found 2582 images belonging to 2 classes.\n",
      "Found 310 images belonging to 2 classes.\n",
      "Found 310 images belonging to 2 classes.\n"
     ]
    }
   ],
   "source": [
    "augmented_train_ds = datagen.flow_from_directory(\n",
    "    train_path,\n",
    "    target_size=(224,224),\n",
    "    batch_size=64,\n",
    "    class_mode='binary'\n",
    ")\n",
    "\n",
    "augmented_val_ds = datagen.flow_from_directory(\n",
    "    val_path,\n",
    "    target_size=(224,224),\n",
    "    batch_size=64,\n",
    "    class_mode='binary'\n",
    ")\n",
    "\n",
    "augmented_test_ds = datagen.flow_from_directory(\n",
    "    test_path,\n",
    "    target_size=(224,224),\n",
    "    batch_size=64,\n",
    "    class_mode='binary'\n",
    ")\n",
    "early_stopping = EarlyStopping(monitor='val_loss', patience=10, restore_best_weights=True)"
   ]
  },
  {
   "cell_type": "code",
   "execution_count": 15,
   "metadata": {},
   "outputs": [
    {
     "name": "stdout",
     "output_type": "stream",
     "text": [
      "Epoch 1/25\n"
     ]
    },
    {
     "name": "stderr",
     "output_type": "stream",
     "text": [
      "2023-05-26 22:44:22.610643: I tensorflow/core/common_runtime/executor.cc:1210] [/device:CPU:0] (DEBUG INFO) Executor start aborting (this does not indicate an error and you can ignore this message): INVALID_ARGUMENT: You must feed a value for placeholder tensor 'Placeholder/_0' with dtype int32\n",
      "\t [[{{node Placeholder/_0}}]]\n"
     ]
    },
    {
     "name": "stdout",
     "output_type": "stream",
     "text": [
      "41/41 [==============================] - ETA: 0s - loss: 6.5777 - accuracy: 0.5449 "
     ]
    },
    {
     "name": "stderr",
     "output_type": "stream",
     "text": [
      "2023-05-26 22:51:54.210289: I tensorflow/core/common_runtime/executor.cc:1210] [/device:CPU:0] (DEBUG INFO) Executor start aborting (this does not indicate an error and you can ignore this message): INVALID_ARGUMENT: You must feed a value for placeholder tensor 'Placeholder/_0' with dtype int32\n",
      "\t [[{{node Placeholder/_0}}]]\n"
     ]
    },
    {
     "name": "stdout",
     "output_type": "stream",
     "text": [
      "41/41 [==============================] - 562s 14s/step - loss: 6.5777 - accuracy: 0.5449 - val_loss: 84.9648 - val_accuracy: 0.4729\n",
      "Epoch 2/25\n",
      "41/41 [==============================] - 545s 13s/step - loss: 0.7661 - accuracy: 0.5256 - val_loss: 1.0805 - val_accuracy: 0.4779\n",
      "Epoch 3/25\n",
      "41/41 [==============================] - 555s 14s/step - loss: 0.6987 - accuracy: 0.5271 - val_loss: 1.1929 - val_accuracy: 0.4667\n",
      "Epoch 4/25\n",
      "41/41 [==============================] - 554s 14s/step - loss: 0.6965 - accuracy: 0.5294 - val_loss: 4.9749 - val_accuracy: 0.4675\n",
      "Epoch 5/25\n",
      "41/41 [==============================] - 579s 14s/step - loss: 0.6956 - accuracy: 0.5337 - val_loss: 0.7159 - val_accuracy: 0.4888\n",
      "Epoch 6/25\n",
      "41/41 [==============================] - 543s 13s/step - loss: 0.6824 - accuracy: 0.5294 - val_loss: 0.6926 - val_accuracy: 0.5302\n",
      "Epoch 7/25\n",
      "41/41 [==============================] - 510s 12s/step - loss: 0.6758 - accuracy: 0.5287 - val_loss: 0.6923 - val_accuracy: 0.5279\n",
      "Epoch 8/25\n",
      "41/41 [==============================] - 526s 13s/step - loss: 0.6664 - accuracy: 0.5271 - val_loss: 0.7058 - val_accuracy: 0.4907\n",
      "Epoch 9/25\n",
      "41/41 [==============================] - 647s 16s/step - loss: 0.6614 - accuracy: 0.5298 - val_loss: 0.6993 - val_accuracy: 0.5027\n",
      "Epoch 10/25\n",
      "41/41 [==============================] - 688s 17s/step - loss: 0.6613 - accuracy: 0.5283 - val_loss: 0.6919 - val_accuracy: 0.5290\n",
      "Epoch 11/25\n",
      "41/41 [==============================] - 612s 15s/step - loss: 0.6618 - accuracy: 0.5294 - val_loss: 0.6920 - val_accuracy: 0.5290\n",
      "Epoch 12/25\n",
      "41/41 [==============================] - 675s 17s/step - loss: 0.6584 - accuracy: 0.5689 - val_loss: 1.0281 - val_accuracy: 0.5163\n",
      "Epoch 13/25\n",
      "41/41 [==============================] - 599s 15s/step - loss: 0.6554 - accuracy: 0.5620 - val_loss: 3.0131 - val_accuracy: 0.4930\n",
      "Epoch 14/25\n",
      "41/41 [==============================] - 617s 15s/step - loss: 0.6661 - accuracy: 0.5515 - val_loss: 3.0174 - val_accuracy: 0.4969\n",
      "Epoch 15/25\n",
      "41/41 [==============================] - 597s 15s/step - loss: 0.6626 - accuracy: 0.5747 - val_loss: 0.7008 - val_accuracy: 0.4973\n",
      "Epoch 16/25\n",
      "41/41 [==============================] - 557s 14s/step - loss: 0.6552 - accuracy: 0.5775 - val_loss: 0.6725 - val_accuracy: 0.5302\n",
      "Epoch 17/25\n",
      "41/41 [==============================] - 561s 14s/step - loss: 0.6522 - accuracy: 0.5964 - val_loss: 1.8142 - val_accuracy: 0.6034\n",
      "Epoch 18/25\n",
      "41/41 [==============================] - 574s 14s/step - loss: 0.6358 - accuracy: 0.5918 - val_loss: 0.6594 - val_accuracy: 0.5500\n",
      "Epoch 19/25\n",
      "41/41 [==============================] - 561s 14s/step - loss: 0.6286 - accuracy: 0.6270 - val_loss: 0.6467 - val_accuracy: 0.5747\n",
      "Epoch 20/25\n",
      "41/41 [==============================] - 580s 14s/step - loss: 0.6217 - accuracy: 0.6286 - val_loss: 0.6481 - val_accuracy: 0.5728\n",
      "Epoch 21/25\n",
      "41/41 [==============================] - 548s 13s/step - loss: 0.6185 - accuracy: 0.6483 - val_loss: 0.6583 - val_accuracy: 0.5767\n",
      "Epoch 22/25\n",
      "41/41 [==============================] - 548s 13s/step - loss: 0.6077 - accuracy: 0.6344 - val_loss: 0.6091 - val_accuracy: 0.6301\n",
      "Epoch 23/25\n",
      "41/41 [==============================] - 557s 14s/step - loss: 0.6199 - accuracy: 0.6394 - val_loss: 0.6666 - val_accuracy: 0.6631\n",
      "Epoch 24/25\n",
      "41/41 [==============================] - 552s 14s/step - loss: 0.5957 - accuracy: 0.6600 - val_loss: 1.3565 - val_accuracy: 0.6720\n",
      "Epoch 25/25\n",
      "41/41 [==============================] - 553s 14s/step - loss: 0.5727 - accuracy: 0.6708 - val_loss: 0.5732 - val_accuracy: 0.6917\n"
     ]
    }
   ],
   "source": [
    "model_fit = model.fit(augmented_train_ds, epochs=25, batch_size=128, validation_data=augmented_train_ds, callbacks=[early_stopping], verbose=1)"
   ]
  },
  {
   "cell_type": "code",
   "execution_count": 16,
   "metadata": {},
   "outputs": [
    {
     "data": {
      "image/png": "[encoded data removed]",
      "text/plain": [
       "<Figure size 640x480 with 1 Axes>"
      ]
     },
     "metadata": {},
     "output_type": "display_data"
    }
   ],
   "source": [
    "# plot the accuracy\n",
    "plt.plot(model_fit.history['accuracy'], label='train acc')\n",
    "plt.plot(model_fit.history['val_accuracy'], label='val acc')\n",
    "plt.legend()\n",
    "plt.show()\n",
    "plt.close()"
   ]
  },
  {
   "cell_type": "code",
   "execution_count": 17,
   "metadata": {},
   "outputs": [
    {
     "data": {
      "image/png": "[encoded data removed]",
      "text/plain": [
       "<Figure size 640x480 with 1 Axes>"
      ]
     },
     "metadata": {},
     "output_type": "display_data"
    }
   ],
   "source": [
    "# plot the loss\n",
    "plt.plot(model_fit.history['loss'], label='train loss')\n",
    "plt.plot(model_fit.history['val_loss'], label='val loss')\n",
    "plt.legend()\n",
    "plt.show()\n",
    "plt.close()"
   ]
  },
  {
   "cell_type": "code",
   "execution_count": 18,
   "metadata": {},
   "outputs": [
    {
     "name": "stderr",
     "output_type": "stream",
     "text": [
      "2023-05-27 02:45:24.867404: I tensorflow/core/common_runtime/executor.cc:1210] [/device:CPU:0] (DEBUG INFO) Executor start aborting (this does not indicate an error and you can ignore this message): INVALID_ARGUMENT: You must feed a value for placeholder tensor 'Placeholder/_0' with dtype int32\n",
      "\t [[{{node Placeholder/_0}}]]\n"
     ]
    },
    {
     "name": "stdout",
     "output_type": "stream",
     "text": [
      "5/5 [==============================] - 14s 3s/step\n",
      "              precision    recall  f1-score   support\n",
      "\n",
      "           0       0.52      0.50      0.51       150\n",
      "           1       0.55      0.56      0.55       160\n",
      "\n",
      "    accuracy                           0.53       310\n",
      "   macro avg       0.53      0.53      0.53       310\n",
      "weighted avg       0.53      0.53      0.53       310\n",
      "\n"
     ]
    },
    {
     "name": "stderr",
     "output_type": "stream",
     "text": [
      "2023-05-27 02:45:39.125838: I tensorflow/core/common_runtime/executor.cc:1210] [/device:CPU:0] (DEBUG INFO) Executor start aborting (this does not indicate an error and you can ignore this message): INVALID_ARGUMENT: You must feed a value for placeholder tensor 'Placeholder/_4' with dtype int32 and shape [310]\n",
      "\t [[{{node Placeholder/_4}}]]\n",
      "2023-05-27 02:45:39.126261: I tensorflow/core/common_runtime/executor.cc:1210] [/device:CPU:0] (DEBUG INFO) Executor start aborting (this does not indicate an error and you can ignore this message): INVALID_ARGUMENT: You must feed a value for placeholder tensor 'Placeholder/_0' with dtype string and shape [310]\n",
      "\t [[{{node Placeholder/_0}}]]\n"
     ]
    }
   ],
   "source": [
    "from sklearn.metrics import classification_report\n",
    "\n",
    "y_pred = model.predict(augmented_test_ds)\n",
    "y_pred_labels = np.round(y_pred).astype(int)\n",
    "y_true = np.concatenate([y for _, y in test_ds], axis=0)\n",
    "report = classification_report(y_true, y_pred_labels)\n",
    "\n",
    "print(report)"
   ]
  },
  {
   "cell_type": "code",
   "execution_count": 19,
   "metadata": {},
   "outputs": [],
   "source": [
    "from sklearn.metrics import accuracy_score, f1_score\n",
    "accuracy = accuracy_score(y_true, y_pred_labels)\n",
    "f1 = f1_score(y_true, y_pred_labels, average='weighted')"
   ]
  },
  {
   "cell_type": "code",
   "execution_count": 20,
   "metadata": {},
   "outputs": [
    {
     "name": "stdout",
     "output_type": "stream",
     "text": [
      "Accuracy: 0.532258064516129\n",
      "F1-Score: 0.531892164696976\n"
     ]
    }
   ],
   "source": [
    "print('Accuracy:', accuracy)\n",
    "print('F1-Score:', f1)"
   ]
  }
 ],
 "metadata": {
  "kernelspec": {
   "display_name": "Python 3",
   "language": "python",
   "name": "python3"
  },
  "language_info": {
   "codemirror_mode": {
    "name": "ipython",
    "version": 3
   },
   "file_extension": ".py",
   "mimetype": "text/x-python",
   "name": "python",
   "nbconvert_exporter": "python",
   "pygments_lexer": "ipython3",
   "version": "3.11.3"
  },
  "orig_nbformat": 4
 },
 "nbformat": 4,
 "nbformat_minor": 2
}

{
 "cells": [
  {
   "cell_type": "code",
   "execution_count": 1,
   "metadata": {},
   "outputs": [],
   "source": [
    "import numpy as np\n",
    "import pandas as pd\n",
    "import matplotlib.pyplot as plt\n",
    "import matplotlib.image as mpimg\n",
    "import keras \n",
    "import tensorflow as tf\n",
    "from keras.models import Sequential, Model\n",
    "from keras.layers import Dense, Dropout, Flatten , BatchNormalization\n",
    "from keras.layers import Conv2D, MaxPooling2D , AveragePooling2D,GlobalAveragePooling2D\n",
    "from keras import models, layers\n",
    "from keras.layers import LSTM,TimeDistributed\n",
    "from keras.callbacks import ReduceLROnPlateau,EarlyStopping\n",
    "from keras.preprocessing.image import ImageDataGenerator\n",
    "import tensorflow\n",
    "from tensorflow import keras\n",
    "from keras import layers, models\n",
    "from sklearn.metrics import accuracy_score"
   ]
  },
  {
   "cell_type": "code",
   "execution_count": 2,
   "metadata": {},
   "outputs": [],
   "source": [
    "train_path = \"/Users/phongminh/IE103Lab/Data_Malware/Data_Train\"\n",
    "val_path = \"/Users/phongminh/IE103Lab/Data_Malware/Data_Val\"\n",
    "test_path = \"/Users/phongminh/IE103Lab/Data_Malware/Data_Test\""
   ]
  },
  {
   "cell_type": "code",
   "execution_count": 3,
   "metadata": {},
   "outputs": [],
   "source": [
    "img_size = (224, 224)\n",
    "batch_size = 64"
   ]
  },
  {
   "cell_type": "code",
   "execution_count": 4,
   "metadata": {},
   "outputs": [
    {
     "name": "stdout",
     "output_type": "stream",
     "text": [
      "Found 2582 files belonging to 2 classes.\n"
     ]
    }
   ],
   "source": [
    "train_ds = tf.keras.preprocessing.image_dataset_from_directory(\n",
    "    train_path,\n",
    "    seed=123,\n",
    "    shuffle=True,\n",
    "    image_size=img_size,\n",
    "    batch_size=batch_size\n",
    ")"
   ]
  },
  {
   "cell_type": "code",
   "execution_count": 5,
   "metadata": {},
   "outputs": [
    {
     "name": "stdout",
     "output_type": "stream",
     "text": [
      "Found 310 files belonging to 2 classes.\n"
     ]
    }
   ],
   "source": [
    "val_ds = tf.keras.preprocessing.image_dataset_from_directory(\n",
    "    val_path,\n",
    "    seed=123,\n",
    "    shuffle=True,\n",
    "    image_size=img_size,\n",
    "    batch_size=batch_size\n",
    ")"
   ]
  },
  {
   "cell_type": "code",
   "execution_count": 6,
   "metadata": {},
   "outputs": [
    {
     "name": "stdout",
     "output_type": "stream",
     "text": [
      "Found 310 files belonging to 2 classes.\n"
     ]
    }
   ],
   "source": [
    "test_ds = tf.keras.preprocessing.image_dataset_from_directory(\n",
    "    test_path,\n",
    "    seed=123,\n",
    "    shuffle=True,\n",
    "    image_size=img_size,\n",
    "    batch_size=batch_size\n",
    ")"
   ]
  },
  {
   "cell_type": "code",
   "execution_count": 7,
   "metadata": {},
   "outputs": [
    {
     "name": "stdout",
     "output_type": "stream",
     "text": [
      "Found 2582 images belonging to 2 classes.\n",
      "Found 310 images belonging to 2 classes.\n",
      "Found 310 images belonging to 2 classes.\n"
     ]
    }
   ],
   "source": [
    "train_datagen = ImageDataGenerator(rescale=1./255,\n",
    "                                   shear_range=0.2,\n",
    "                                   zoom_range=0.2,\n",
    "                                   horizontal_flip=True)\n",
    "\n",
    "test_datagen = ImageDataGenerator(rescale=1./255,\n",
    "                                   shear_range=0.2,\n",
    "                                   zoom_range=0.2,\n",
    "                                   horizontal_flip=True)\n",
    "\n",
    "val_datagen = ImageDataGenerator(rescale=1./255)\n",
    "\n",
    "\n",
    "train_generator = train_datagen.flow_from_directory(train_path,\n",
    "                                                    target_size=img_size,\n",
    "                                                    batch_size=batch_size,\n",
    "                                                    class_mode=\"binary\")\n",
    "\n",
    "test_generator = test_datagen.flow_from_directory(test_path,\n",
    "                                                    target_size=img_size,\n",
    "                                                    batch_size=batch_size,\n",
    "                                                    class_mode=\"binary\")\n",
    "\n",
    "val_generator = val_datagen.flow_from_directory(test_path,\n",
    "                                                  target_size=img_size,\n",
    "                                                  batch_size=batch_size,\n",
    "                                                 class_mode=\"binary\")"
   ]
  },
  {
   "cell_type": "code",
   "execution_count": 8,
   "metadata": {},
   "outputs": [
    {
     "name": "stdout",
     "output_type": "stream",
     "text": [
      "(224, 224, 3)\n"
     ]
    }
   ],
   "source": [
    "input_shape = (img_size[0], img_size[1], 3)\n",
    "print(input_shape)"
   ]
  },
  {
   "cell_type": "code",
   "execution_count": 9,
   "metadata": {},
   "outputs": [
    {
     "name": "stdout",
     "output_type": "stream",
     "text": [
      "Downloading data from https://storage.googleapis.com/tensorflow/keras-applications/vgg16/vgg16_weights_tf_dim_ordering_tf_kernels_notop.h5\n",
      "58889256/58889256 [==============================] - 6s 0us/step\n"
     ]
    }
   ],
   "source": [
    "from keras.applications.vgg16 import VGG16\n",
    "from keras.applications.vgg16 import preprocess_input\n",
    "\n",
    "# Loading VGG16 model\n",
    "vgg_model = VGG16(weights=\"imagenet\", include_top=False, input_shape=input_shape)\n",
    "\n",
    "for layer in vgg_model.layers:\n",
    "    layer.trainable = False"
   ]
  },
  {
   "cell_type": "code",
   "execution_count": 10,
   "metadata": {},
   "outputs": [
    {
     "name": "stdout",
     "output_type": "stream",
     "text": [
      "Model: \"vgg16\"\n",
      "_________________________________________________________________\n",
      " Layer (type)                Output Shape              Param #   \n",
      "=================================================================\n",
      " input_1 (InputLayer)        [(None, 224, 224, 3)]     0         \n",
      "                                                                 \n",
      " block1_conv1 (Conv2D)       (None, 224, 224, 64)      1792      \n",
      "                                                                 \n",
      " block1_conv2 (Conv2D)       (None, 224, 224, 64)      36928     \n",
      "                                                                 \n",
      " block1_pool (MaxPooling2D)  (None, 112, 112, 64)      0         \n",
      "                                                                 \n",
      " block2_conv1 (Conv2D)       (None, 112, 112, 128)     73856     \n",
      "                                                                 \n",
      " block2_conv2 (Conv2D)       (None, 112, 112, 128)     147584    \n",
      "                                                                 \n",
      " block2_pool (MaxPooling2D)  (None, 56, 56, 128)       0         \n",
      "                                                                 \n",
      " block3_conv1 (Conv2D)       (None, 56, 56, 256)       295168    \n",
      "                                                                 \n",
      " block3_conv2 (Conv2D)       (None, 56, 56, 256)       590080    \n",
      "                                                                 \n",
      " block3_conv3 (Conv2D)       (None, 56, 56, 256)       590080    \n",
      "                                                                 \n",
      " block3_pool (MaxPooling2D)  (None, 28, 28, 256)       0         \n",
      "                                                                 \n",
      " block4_conv1 (Conv2D)       (None, 28, 28, 512)       1180160   \n",
      "                                                                 \n",
      " block4_conv2 (Conv2D)       (None, 28, 28, 512)       2359808   \n",
      "                                                                 \n",
      " block4_conv3 (Conv2D)       (None, 28, 28, 512)       2359808   \n",
      "                                                                 \n",
      " block4_pool (MaxPooling2D)  (None, 14, 14, 512)       0         \n",
      "                                                                 \n",
      " block5_conv1 (Conv2D)       (None, 14, 14, 512)       2359808   \n",
      "                                                                 \n",
      " block5_conv2 (Conv2D)       (None, 14, 14, 512)       2359808   \n",
      "                                                                 \n",
      " block5_conv3 (Conv2D)       (None, 14, 14, 512)       2359808   \n",
      "                                                                 \n",
      " block5_pool (MaxPooling2D)  (None, 7, 7, 512)         0         \n",
      "                                                                 \n",
      "=================================================================\n",
      "Total params: 14714688 (56.13 MB)\n",
      "Trainable params: 0 (0.00 Byte)\n",
      "Non-trainable params: 14714688 (56.13 MB)\n",
      "_________________________________________________________________\n"
     ]
    }
   ],
   "source": [
    "vgg_model.summary()"
   ]
  },
  {
   "cell_type": "code",
   "execution_count": 11,
   "metadata": {},
   "outputs": [],
   "source": [
    "flatten_layer = layers.Flatten()\n",
    "dense_layer_1 = layers.Dense(256, activation='relu')\n",
    "dense_layer_2 = layers.Dropout(0.5)\n",
    "prediction_layer = layers.Dense(1, activation='sigmoid')\n",
    "\n",
    "\n",
    "model = models.Sequential([\n",
    "    vgg_model,\n",
    "    flatten_layer,\n",
    "    dense_layer_1,\n",
    "    dense_layer_2,\n",
    "    prediction_layer\n",
    "])"
   ]
  },
  {
   "cell_type": "code",
   "execution_count": 12,
   "metadata": {},
   "outputs": [
    {
     "name": "stderr",
     "output_type": "stream",
     "text": [
      "WARNING:absl:At this time, the v2.11+ optimizer `tf.keras.optimizers.Adam` runs slowly on M1/M2 Macs, please use the legacy Keras optimizer instead, located at `tf.keras.optimizers.legacy.Adam`.\n",
      "WARNING:absl:`lr` is deprecated in Keras optimizer, please use `learning_rate` or use the legacy optimizer, e.g.,tf.keras.optimizers.legacy.Adam.\n",
      "WARNING:absl:There is a known slowdown when using v2.11+ Keras optimizers on M1/M2 Macs. Falling back to the legacy Keras optimizer, i.e., `tf.keras.optimizers.legacy.Adam`.\n"
     ]
    }
   ],
   "source": [
    "optimizer = keras.optimizers.Adam(lr=0.001)\n",
    "\n",
    "model.compile(\n",
    "    optimizer = optimizer,\n",
    "    loss='binary_crossentropy',\n",
    "    metrics=['accuracy'],\n",
    ")\n",
    "\n",
    "\n",
    "es = EarlyStopping(monitor='val_accuracy', mode='max', patience=5,  restore_best_weights=True, verbose = 0)"
   ]
  },
  {
   "cell_type": "code",
   "execution_count": 13,
   "metadata": {},
   "outputs": [
    {
     "name": "stderr",
     "output_type": "stream",
     "text": [
      "/var/folders/r4/2r984bwd7wv1_8f6pgq4mfpc0000gn/T/ipykernel_8387/4035141830.py:3: UserWarning: `Model.fit_generator` is deprecated and will be removed in a future version. Please use `Model.fit`, which supports generators.\n",
      "  vgg16_history = model.fit_generator(train_generator,\n"
     ]
    },
    {
     "name": "stdout",
     "output_type": "stream",
     "text": [
      "Epoch 1/50\n"
     ]
    },
    {
     "name": "stderr",
     "output_type": "stream",
     "text": [
      "2023-05-28 16:48:09.853110: I tensorflow/core/common_runtime/executor.cc:1210] [/device:CPU:0] (DEBUG INFO) Executor start aborting (this does not indicate an error and you can ignore this message): INVALID_ARGUMENT: You must feed a value for placeholder tensor 'Placeholder/_0' with dtype int32\n",
      "\t [[{{node Placeholder/_0}}]]\n"
     ]
    },
    {
     "name": "stdout",
     "output_type": "stream",
     "text": [
      "40/40 [==============================] - ETA: 0s - loss: 0.9376 - accuracy: 0.5675 "
     ]
    },
    {
     "name": "stderr",
     "output_type": "stream",
     "text": [
      "2023-05-28 16:58:53.726257: I tensorflow/core/common_runtime/executor.cc:1210] [/device:CPU:0] (DEBUG INFO) Executor start aborting (this does not indicate an error and you can ignore this message): INVALID_ARGUMENT: You must feed a value for placeholder tensor 'Placeholder/_0' with dtype int32\n",
      "\t [[{{node Placeholder/_0}}]]\n"
     ]
    },
    {
     "name": "stdout",
     "output_type": "stream",
     "text": [
      "40/40 [==============================] - 707s 18s/step - loss: 0.9376 - accuracy: 0.5675 - val_loss: 0.6548 - val_accuracy: 0.5625\n",
      "Epoch 2/50\n",
      "40/40 [==============================] - 717s 18s/step - loss: 0.6551 - accuracy: 0.6044 - val_loss: 0.6530 - val_accuracy: 0.5977\n",
      "Epoch 3/50\n",
      "40/40 [==============================] - 701s 18s/step - loss: 0.6345 - accuracy: 0.6239 - val_loss: 0.6303 - val_accuracy: 0.6328\n",
      "Epoch 4/50\n",
      "40/40 [==============================] - 705s 18s/step - loss: 0.6360 - accuracy: 0.6366 - val_loss: 0.6267 - val_accuracy: 0.6289\n",
      "Epoch 5/50\n",
      "40/40 [==============================] - 684s 17s/step - loss: 0.6175 - accuracy: 0.6390 - val_loss: 0.6196 - val_accuracy: 0.6211\n",
      "Epoch 6/50\n",
      "40/40 [==============================] - 684s 17s/step - loss: 0.6219 - accuracy: 0.6350 - val_loss: 0.6155 - val_accuracy: 0.6602\n",
      "Epoch 7/50\n",
      "40/40 [==============================] - 714s 18s/step - loss: 0.6193 - accuracy: 0.6346 - val_loss: 0.6294 - val_accuracy: 0.6211\n",
      "Epoch 8/50\n",
      "40/40 [==============================] - 786s 20s/step - loss: 0.6102 - accuracy: 0.6688 - val_loss: 0.5916 - val_accuracy: 0.6914\n",
      "Epoch 9/50\n",
      "40/40 [==============================] - 680s 17s/step - loss: 0.6113 - accuracy: 0.6227 - val_loss: 0.6277 - val_accuracy: 0.6367\n",
      "Epoch 10/50\n",
      "40/40 [==============================] - 689s 17s/step - loss: 0.5964 - accuracy: 0.6604 - val_loss: 0.6073 - val_accuracy: 0.6523\n",
      "Epoch 11/50\n",
      "40/40 [==============================] - 743s 19s/step - loss: 0.5963 - accuracy: 0.6545 - val_loss: 0.6273 - val_accuracy: 0.6172\n",
      "Epoch 12/50\n",
      "40/40 [==============================] - 692s 17s/step - loss: 0.5935 - accuracy: 0.6608 - val_loss: 0.5923 - val_accuracy: 0.6992\n",
      "Epoch 13/50\n",
      "40/40 [==============================] - 691s 17s/step - loss: 0.5869 - accuracy: 0.6640 - val_loss: 0.6051 - val_accuracy: 0.6250\n",
      "Epoch 14/50\n",
      "40/40 [==============================] - 709s 18s/step - loss: 0.5991 - accuracy: 0.6493 - val_loss: 0.6062 - val_accuracy: 0.6680\n",
      "Epoch 15/50\n",
      "40/40 [==============================] - 681s 17s/step - loss: 0.5886 - accuracy: 0.6672 - val_loss: 0.6063 - val_accuracy: 0.6211\n",
      "Epoch 16/50\n",
      "40/40 [==============================] - 688s 17s/step - loss: 0.5706 - accuracy: 0.6914 - val_loss: 0.6006 - val_accuracy: 0.6719\n",
      "Epoch 17/50\n",
      "40/40 [==============================] - 744s 19s/step - loss: 0.5833 - accuracy: 0.6680 - val_loss: 0.6111 - val_accuracy: 0.6523\n"
     ]
    }
   ],
   "source": [
    "epochs = 50\n",
    "\n",
    "vgg16_history = model.fit_generator(train_generator,\n",
    "\t\t\t\t    steps_per_epoch = train_generator.samples // batch_size,\n",
    "\t\t\t\t    validation_data = val_generator, \n",
    "\t\t\t\t    validation_steps = val_generator.samples // batch_size,\n",
    "\t\t\t\t\tepochs=epochs,\n",
    "          callbacks=[es])"
   ]
  },
  {
   "cell_type": "code",
   "execution_count": 15,
   "metadata": {},
   "outputs": [
    {
     "data": {
      "image/png": "[encoded data removed]",
      "text/plain": [
       "<Figure size 640x480 with 1 Axes>"
      ]
     },
     "metadata": {},
     "output_type": "display_data"
    }
   ],
   "source": [
    "plt.plot(vgg16_history.history['accuracy'], label='train acc')\n",
    "plt.plot(vgg16_history.history['val_accuracy'], label='val acc')\n",
    "plt.legend()\n",
    "plt.show()\n",
    "plt.close()"
   ]
  },
  {
   "cell_type": "code",
   "execution_count": 16,
   "metadata": {},
   "outputs": [
    {
     "data": {
      "image/png": "[encoded data removed]",
      "text/plain": [
       "<Figure size 640x480 with 1 Axes>"
      ]
     },
     "metadata": {},
     "output_type": "display_data"
    }
   ],
   "source": [
    "plt.plot(vgg16_history.history['loss'], label='train loss')\n",
    "plt.plot(vgg16_history.history['val_loss'], label='val loss')\n",
    "plt.legend()\n",
    "plt.show()\n",
    "plt.close()"
   ]
  },
  {
   "cell_type": "code",
   "execution_count": 17,
   "metadata": {},
   "outputs": [
    {
     "name": "stderr",
     "output_type": "stream",
     "text": [
      "2023-05-28 20:19:18.399871: I tensorflow/core/common_runtime/executor.cc:1210] [/device:CPU:0] (DEBUG INFO) Executor start aborting (this does not indicate an error and you can ignore this message): INVALID_ARGUMENT: You must feed a value for placeholder tensor 'Placeholder/_0' with dtype int32\n",
      "\t [[{{node Placeholder/_0}}]]\n"
     ]
    },
    {
     "name": "stdout",
     "output_type": "stream",
     "text": [
      "5/5 [==============================] - 81s 17s/step\n",
      "              precision    recall  f1-score   support\n",
      "\n",
      "           0       0.47      0.47      0.47       150\n",
      "           1       0.51      0.51      0.51       160\n",
      "\n",
      "    accuracy                           0.49       310\n",
      "   macro avg       0.49      0.49      0.49       310\n",
      "weighted avg       0.49      0.49      0.49       310\n",
      "\n"
     ]
    },
    {
     "name": "stderr",
     "output_type": "stream",
     "text": [
      "2023-05-28 20:20:39.874250: I tensorflow/core/common_runtime/executor.cc:1210] [/device:CPU:0] (DEBUG INFO) Executor start aborting (this does not indicate an error and you can ignore this message): INVALID_ARGUMENT: You must feed a value for placeholder tensor 'Placeholder/_4' with dtype int32 and shape [310]\n",
      "\t [[{{node Placeholder/_4}}]]\n",
      "2023-05-28 20:20:39.874678: I tensorflow/core/common_runtime/executor.cc:1210] [/device:CPU:0] (DEBUG INFO) Executor start aborting (this does not indicate an error and you can ignore this message): INVALID_ARGUMENT: You must feed a value for placeholder tensor 'Placeholder/_0' with dtype string and shape [310]\n",
      "\t [[{{node Placeholder/_0}}]]\n"
     ]
    }
   ],
   "source": [
    "from sklearn.metrics import classification_report\n",
    "\n",
    "y_pred = model.predict(test_generator)\n",
    "y_pred_labels = np.round(y_pred).astype(int)\n",
    "y_true = np.concatenate([y for _, y in test_ds], axis=0)\n",
    "report = classification_report(y_true, y_pred_labels)\n",
    "\n",
    "print(report)"
   ]
  },
  {
   "cell_type": "code",
   "execution_count": 18,
   "metadata": {},
   "outputs": [],
   "source": [
    "from sklearn.metrics import accuracy_score, f1_score\n",
    "accuracy = accuracy_score(y_true, y_pred_labels)\n",
    "f1 = f1_score(y_true, y_pred_labels, average='weighted')"
   ]
  },
  {
   "cell_type": "code",
   "execution_count": 19,
   "metadata": {},
   "outputs": [
    {
     "name": "stdout",
     "output_type": "stream",
     "text": [
      "Accuracy: 0.49032258064516127\n",
      "F1-Score: 0.49019510286300577\n"
     ]
    }
   ],
   "source": [
    "print('Accuracy:', accuracy)\n",
    "print('F1-Score:', f1)"
   ]
  },
  {
   "cell_type": "code",
   "execution_count": null,
   "metadata": {},
   "outputs": [],
   "source": [
    "vgg16_model_name = 'vgg16_model.h5'\n",
    "model.save(vgg16_model_name)"
   ]
  }
 ],
 "metadata": {
  "kernelspec": {
   "display_name": "Python 3",
   "language": "python",
   "name": "python3"
  },
  "language_info": {
   "codemirror_mode": {
    "name": "ipython",
    "version": 3
   },
   "file_extension": ".py",
   "mimetype": "text/x-python",
   "name": "python",
   "nbconvert_exporter": "python",
   "pygments_lexer": "ipython3",
   "version": "3.11.3"
  },
  "orig_nbformat": 4
 },
 "nbformat": 4,
 "nbformat_minor": 2
}
